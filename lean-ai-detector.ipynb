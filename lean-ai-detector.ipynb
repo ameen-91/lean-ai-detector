{
 "cells": [
  {
   "cell_type": "code",
   "execution_count": 21,
   "id": "fff870a7-80be-4cea-b743-a785b72d3170",
   "metadata": {},
   "outputs": [
    {
     "name": "stderr",
     "output_type": "stream",
     "text": [
      "huggingface/tokenizers: The current process just got forked, after parallelism has already been used. Disabling parallelism to avoid deadlocks...\n",
      "To disable this warning, you can either:\n",
      "\t- Avoid using `tokenizers` before the fork if possible\n",
      "\t- Explicitly set the environment variable TOKENIZERS_PARALLELISM=(true | false)\n"
     ]
    },
    {
     "name": "stdout",
     "output_type": "stream",
     "text": [
      "Requirement already satisfied: pip in /usr/local/lib/python3.10/dist-packages (24.2)\n",
      "\u001b[33mWARNING: Running pip as the 'root' user can result in broken permissions and conflicting behaviour with the system package manager, possibly rendering your system unusable.It is recommended to use a virtual environment instead: https://pip.pypa.io/warnings/venv. Use the --root-user-action option if you know what you are doing and want to suppress this warning.\u001b[0m\u001b[33m\n",
      "\u001b[0m"
     ]
    },
    {
     "name": "stderr",
     "output_type": "stream",
     "text": [
      "huggingface/tokenizers: The current process just got forked, after parallelism has already been used. Disabling parallelism to avoid deadlocks...\n",
      "To disable this warning, you can either:\n",
      "\t- Avoid using `tokenizers` before the fork if possible\n",
      "\t- Explicitly set the environment variable TOKENIZERS_PARALLELISM=(true | false)\n"
     ]
    },
    {
     "name": "stdout",
     "output_type": "stream",
     "text": [
      "\u001b[33mWARNING: Running pip as the 'root' user can result in broken permissions and conflicting behaviour with the system package manager, possibly rendering your system unusable.It is recommended to use a virtual environment instead: https://pip.pypa.io/warnings/venv. Use the --root-user-action option if you know what you are doing and want to suppress this warning.\u001b[0m\u001b[33m\n",
      "\u001b[0m"
     ]
    },
    {
     "name": "stderr",
     "output_type": "stream",
     "text": [
      "huggingface/tokenizers: The current process just got forked, after parallelism has already been used. Disabling parallelism to avoid deadlocks...\n",
      "To disable this warning, you can either:\n",
      "\t- Avoid using `tokenizers` before the fork if possible\n",
      "\t- Explicitly set the environment variable TOKENIZERS_PARALLELISM=(true | false)\n"
     ]
    },
    {
     "name": "stdout",
     "output_type": "stream",
     "text": [
      "\u001b[33mWARNING: Running pip as the 'root' user can result in broken permissions and conflicting behaviour with the system package manager, possibly rendering your system unusable.It is recommended to use a virtual environment instead: https://pip.pypa.io/warnings/venv. Use the --root-user-action option if you know what you are doing and want to suppress this warning.\u001b[0m\u001b[33m\n",
      "\u001b[0m"
     ]
    },
    {
     "name": "stderr",
     "output_type": "stream",
     "text": [
      "huggingface/tokenizers: The current process just got forked, after parallelism has already been used. Disabling parallelism to avoid deadlocks...\n",
      "To disable this warning, you can either:\n",
      "\t- Avoid using `tokenizers` before the fork if possible\n",
      "\t- Explicitly set the environment variable TOKENIZERS_PARALLELISM=(true | false)\n"
     ]
    },
    {
     "name": "stdout",
     "output_type": "stream",
     "text": [
      "\u001b[33mWARNING: Running pip as the 'root' user can result in broken permissions and conflicting behaviour with the system package manager, possibly rendering your system unusable.It is recommended to use a virtual environment instead: https://pip.pypa.io/warnings/venv. Use the --root-user-action option if you know what you are doing and want to suppress this warning.\u001b[0m\u001b[33m\n",
      "\u001b[0m"
     ]
    },
    {
     "name": "stderr",
     "output_type": "stream",
     "text": [
      "huggingface/tokenizers: The current process just got forked, after parallelism has already been used. Disabling parallelism to avoid deadlocks...\n",
      "To disable this warning, you can either:\n",
      "\t- Avoid using `tokenizers` before the fork if possible\n",
      "\t- Explicitly set the environment variable TOKENIZERS_PARALLELISM=(true | false)\n"
     ]
    },
    {
     "name": "stdout",
     "output_type": "stream",
     "text": [
      "\u001b[33mWARNING: Running pip as the 'root' user can result in broken permissions and conflicting behaviour with the system package manager, possibly rendering your system unusable.It is recommended to use a virtual environment instead: https://pip.pypa.io/warnings/venv. Use the --root-user-action option if you know what you are doing and want to suppress this warning.\u001b[0m\u001b[33m\n",
      "\u001b[0m"
     ]
    },
    {
     "name": "stderr",
     "output_type": "stream",
     "text": [
      "huggingface/tokenizers: The current process just got forked, after parallelism has already been used. Disabling parallelism to avoid deadlocks...\n",
      "To disable this warning, you can either:\n",
      "\t- Avoid using `tokenizers` before the fork if possible\n",
      "\t- Explicitly set the environment variable TOKENIZERS_PARALLELISM=(true | false)\n"
     ]
    },
    {
     "name": "stdout",
     "output_type": "stream",
     "text": [
      "\u001b[33mWARNING: Running pip as the 'root' user can result in broken permissions and conflicting behaviour with the system package manager, possibly rendering your system unusable.It is recommended to use a virtual environment instead: https://pip.pypa.io/warnings/venv. Use the --root-user-action option if you know what you are doing and want to suppress this warning.\u001b[0m\u001b[33m\n",
      "\u001b[0m"
     ]
    },
    {
     "name": "stderr",
     "output_type": "stream",
     "text": [
      "huggingface/tokenizers: The current process just got forked, after parallelism has already been used. Disabling parallelism to avoid deadlocks...\n",
      "To disable this warning, you can either:\n",
      "\t- Avoid using `tokenizers` before the fork if possible\n",
      "\t- Explicitly set the environment variable TOKENIZERS_PARALLELISM=(true | false)\n"
     ]
    },
    {
     "name": "stdout",
     "output_type": "stream",
     "text": [
      "\u001b[33mWARNING: Running pip as the 'root' user can result in broken permissions and conflicting behaviour with the system package manager, possibly rendering your system unusable.It is recommended to use a virtual environment instead: https://pip.pypa.io/warnings/venv. Use the --root-user-action option if you know what you are doing and want to suppress this warning.\u001b[0m\u001b[33m\n",
      "\u001b[0m"
     ]
    },
    {
     "name": "stderr",
     "output_type": "stream",
     "text": [
      "huggingface/tokenizers: The current process just got forked, after parallelism has already been used. Disabling parallelism to avoid deadlocks...\n",
      "To disable this warning, you can either:\n",
      "\t- Avoid using `tokenizers` before the fork if possible\n",
      "\t- Explicitly set the environment variable TOKENIZERS_PARALLELISM=(true | false)\n"
     ]
    },
    {
     "name": "stdout",
     "output_type": "stream",
     "text": [
      "\u001b[33mWARNING: Running pip as the 'root' user can result in broken permissions and conflicting behaviour with the system package manager, possibly rendering your system unusable.It is recommended to use a virtual environment instead: https://pip.pypa.io/warnings/venv. Use the --root-user-action option if you know what you are doing and want to suppress this warning.\u001b[0m\u001b[33m\n",
      "\u001b[0m"
     ]
    },
    {
     "name": "stderr",
     "output_type": "stream",
     "text": [
      "huggingface/tokenizers: The current process just got forked, after parallelism has already been used. Disabling parallelism to avoid deadlocks...\n",
      "To disable this warning, you can either:\n",
      "\t- Avoid using `tokenizers` before the fork if possible\n",
      "\t- Explicitly set the environment variable TOKENIZERS_PARALLELISM=(true | false)\n"
     ]
    },
    {
     "name": "stdout",
     "output_type": "stream",
     "text": [
      "\u001b[33mWARNING: Running pip as the 'root' user can result in broken permissions and conflicting behaviour with the system package manager, possibly rendering your system unusable.It is recommended to use a virtual environment instead: https://pip.pypa.io/warnings/venv. Use the --root-user-action option if you know what you are doing and want to suppress this warning.\u001b[0m\u001b[33m\n",
      "\u001b[0m"
     ]
    },
    {
     "name": "stderr",
     "output_type": "stream",
     "text": [
      "huggingface/tokenizers: The current process just got forked, after parallelism has already been used. Disabling parallelism to avoid deadlocks...\n",
      "To disable this warning, you can either:\n",
      "\t- Avoid using `tokenizers` before the fork if possible\n",
      "\t- Explicitly set the environment variable TOKENIZERS_PARALLELISM=(true | false)\n"
     ]
    },
    {
     "name": "stdout",
     "output_type": "stream",
     "text": [
      "\u001b[33mWARNING: Running pip as the 'root' user can result in broken permissions and conflicting behaviour with the system package manager, possibly rendering your system unusable.It is recommended to use a virtual environment instead: https://pip.pypa.io/warnings/venv. Use the --root-user-action option if you know what you are doing and want to suppress this warning.\u001b[0m\u001b[33m\n",
      "\u001b[0m"
     ]
    },
    {
     "name": "stderr",
     "output_type": "stream",
     "text": [
      "huggingface/tokenizers: The current process just got forked, after parallelism has already been used. Disabling parallelism to avoid deadlocks...\n",
      "To disable this warning, you can either:\n",
      "\t- Avoid using `tokenizers` before the fork if possible\n",
      "\t- Explicitly set the environment variable TOKENIZERS_PARALLELISM=(true | false)\n"
     ]
    },
    {
     "name": "stdout",
     "output_type": "stream",
     "text": [
      "\u001b[33mWARNING: Running pip as the 'root' user can result in broken permissions and conflicting behaviour with the system package manager, possibly rendering your system unusable.It is recommended to use a virtual environment instead: https://pip.pypa.io/warnings/venv. Use the --root-user-action option if you know what you are doing and want to suppress this warning.\u001b[0m\u001b[33m\n",
      "\u001b[0m"
     ]
    },
    {
     "name": "stderr",
     "output_type": "stream",
     "text": [
      "huggingface/tokenizers: The current process just got forked, after parallelism has already been used. Disabling parallelism to avoid deadlocks...\n",
      "To disable this warning, you can either:\n",
      "\t- Avoid using `tokenizers` before the fork if possible\n",
      "\t- Explicitly set the environment variable TOKENIZERS_PARALLELISM=(true | false)\n"
     ]
    },
    {
     "name": "stdout",
     "output_type": "stream",
     "text": [
      "\u001b[33mWARNING: Running pip as the 'root' user can result in broken permissions and conflicting behaviour with the system package manager, possibly rendering your system unusable.It is recommended to use a virtual environment instead: https://pip.pypa.io/warnings/venv. Use the --root-user-action option if you know what you are doing and want to suppress this warning.\u001b[0m\u001b[33m\n",
      "\u001b[0m"
     ]
    },
    {
     "name": "stderr",
     "output_type": "stream",
     "text": [
      "huggingface/tokenizers: The current process just got forked, after parallelism has already been used. Disabling parallelism to avoid deadlocks...\n",
      "To disable this warning, you can either:\n",
      "\t- Avoid using `tokenizers` before the fork if possible\n",
      "\t- Explicitly set the environment variable TOKENIZERS_PARALLELISM=(true | false)\n"
     ]
    },
    {
     "name": "stdout",
     "output_type": "stream",
     "text": [
      "\u001b[33mWARNING: Running pip as the 'root' user can result in broken permissions and conflicting behaviour with the system package manager, possibly rendering your system unusable.It is recommended to use a virtual environment instead: https://pip.pypa.io/warnings/venv. Use the --root-user-action option if you know what you are doing and want to suppress this warning.\u001b[0m\u001b[33m\n",
      "\u001b[0m"
     ]
    }
   ],
   "source": [
    "!python -m pip install --upgrade pip\n",
    "!pip install  -q transformers\n",
    "!pip install  -q accelerate\n",
    "!pip install  -q wandb\n",
    "!pip install  -q evaluate\n",
    "!pip install  -q peft\n",
    "!pip install  -q huggingface_hub\n",
    "!pip install  -q bitsandbytes\n",
    "!pip install  -q datasets\n",
    "!pip install  -q kaggle\n",
    "!pip install  -q sentencepiece\n",
    "!pip install  -q seaborn\n",
    "!pip install  -q scikit-learn"
   ]
  },
  {
   "cell_type": "code",
   "execution_count": 1,
   "id": "5c61365e-b608-4120-b5b8-a55a5cfe850d",
   "metadata": {},
   "outputs": [
    {
     "name": "stderr",
     "output_type": "stream",
     "text": [
      "\u001b[34m\u001b[1mwandb\u001b[0m: Currently logged in as: \u001b[33mameen-91\u001b[0m. Use \u001b[1m`wandb login --relogin`\u001b[0m to force relogin\n"
     ]
    },
    {
     "data": {
      "text/plain": [
       "True"
      ]
     },
     "execution_count": 1,
     "metadata": {},
     "output_type": "execute_result"
    }
   ],
   "source": [
    "import wandb\n",
    "\n",
    "wandb.login()"
   ]
  },
  {
   "cell_type": "code",
   "execution_count": 3,
   "id": "552acb87-cdbe-4d64-ba6f-62d7fc49b953",
   "metadata": {},
   "outputs": [
    {
     "data": {
      "text/html": [
       "Tracking run with wandb version 0.17.5"
      ],
      "text/plain": [
       "<IPython.core.display.HTML object>"
      ]
     },
     "metadata": {},
     "output_type": "display_data"
    },
    {
     "data": {
      "text/html": [
       "Run data is saved locally in <code>/workspace/lean-ai-detector/wandb/run-20240804_235447-yiuxj47u</code>"
      ],
      "text/plain": [
       "<IPython.core.display.HTML object>"
      ]
     },
     "metadata": {},
     "output_type": "display_data"
    },
    {
     "data": {
      "text/html": [
       "Syncing run <strong><a href='https://wandb.ai/ameen-91/lean-ai-detector-workspace_lean-ai-detector/runs/yiuxj47u' target=\"_blank\">chocolate-rain-1</a></strong> to <a href='https://wandb.ai/ameen-91/lean-ai-detector-workspace_lean-ai-detector' target=\"_blank\">Weights & Biases</a> (<a href='https://wandb.me/run' target=\"_blank\">docs</a>)<br/>"
      ],
      "text/plain": [
       "<IPython.core.display.HTML object>"
      ]
     },
     "metadata": {},
     "output_type": "display_data"
    },
    {
     "data": {
      "text/html": [
       " View project at <a href='https://wandb.ai/ameen-91/lean-ai-detector-workspace_lean-ai-detector' target=\"_blank\">https://wandb.ai/ameen-91/lean-ai-detector-workspace_lean-ai-detector</a>"
      ],
      "text/plain": [
       "<IPython.core.display.HTML object>"
      ]
     },
     "metadata": {},
     "output_type": "display_data"
    },
    {
     "data": {
      "text/html": [
       " View run at <a href='https://wandb.ai/ameen-91/lean-ai-detector-workspace_lean-ai-detector/runs/yiuxj47u' target=\"_blank\">https://wandb.ai/ameen-91/lean-ai-detector-workspace_lean-ai-detector/runs/yiuxj47u</a>"
      ],
      "text/plain": [
       "<IPython.core.display.HTML object>"
      ]
     },
     "metadata": {},
     "output_type": "display_data"
    },
    {
     "data": {
      "text/html": [
       "<button onClick=\"this.nextSibling.style.display='block';this.style.display='none';\">Display W&B run</button><iframe src='https://wandb.ai/ameen-91/lean-ai-detector-workspace_lean-ai-detector/runs/yiuxj47u?jupyter=true' style='border:none;width:100%;height:420px;display:none;'></iframe>"
      ],
      "text/plain": [
       "<wandb.sdk.wandb_run.Run at 0x706ca94da860>"
      ]
     },
     "execution_count": 3,
     "metadata": {},
     "output_type": "execute_result"
    }
   ],
   "source": [
    "wandb.init(\"90\")"
   ]
  },
  {
   "cell_type": "code",
   "execution_count": 2,
   "id": "edc38a27-8756-4d4e-ae99-280fa4fb317f",
   "metadata": {},
   "outputs": [],
   "source": [
    "!mkdir ~/.kaggle\n",
    "!cp kaggle.json ~/.kaggle/\n",
    "!chmod 600 ~/.kaggle/kaggle.json"
   ]
  },
  {
   "cell_type": "code",
   "execution_count": 6,
   "id": "ad68cc1a-105a-435e-990b-005829ddbace",
   "metadata": {},
   "outputs": [
    {
     "name": "stdout",
     "output_type": "stream",
     "text": [
      "Dataset URL: https://www.kaggle.com/datasets/shanegerami/ai-vs-human-text\n",
      "License(s): other\n",
      "Downloading ai-vs-human-text.zip to /workspace/lean-ai-detector\n",
      "100%|███████████████████████████████████████▉| 349M/350M [00:21<00:00, 20.8MB/s]\n",
      "100%|████████████████████████████████████████| 350M/350M [00:21<00:00, 17.4MB/s]\n",
      "/bin/bash: line 1: unzip: command not found\n"
     ]
    }
   ],
   "source": [
    "!kaggle datasets download -d shanegerami/ai-vs-human-text"
   ]
  },
  {
   "cell_type": "code",
   "execution_count": 7,
   "id": "a23a2f4f-1a63-4c20-ae7f-8eb5c408af46",
   "metadata": {},
   "outputs": [],
   "source": [
    "class CFG:\n",
    "\n",
    "  model = 'microsoft/deberta-v3-base'\n",
    "\n",
    "cfg = CFG()"
   ]
  },
  {
   "cell_type": "code",
   "execution_count": 8,
   "id": "88d34818-69f9-4df9-8220-e3e4691bc120",
   "metadata": {},
   "outputs": [],
   "source": [
    "import pandas as pd\n",
    "\n",
    "data = pd.read_csv('AI_Human.csv')"
   ]
  },
  {
   "cell_type": "code",
   "execution_count": 9,
   "id": "02798ee0-3592-4626-954c-139474a01099",
   "metadata": {},
   "outputs": [
    {
     "data": {
      "text/plain": [
       "{'text': 'The Advantages of Limiting Car Usage\\n\\nCars are a staple of modern life. They allow us to travel quickly and easily, and they have become an essential part of our daily routines. However, cars also have a number of negative consequences, both for individuals and for society as a whole.\\n\\nBne of the biggest problems with cars is that they contribute to air pollution. Cars emit a variety of pollutants, including carbon monoxide, nitrogen oxides, and particulate matter. These pollutants can cause respiratory problems, heart disease, and cancer. In fact, air pollution from cars is estimated to be responsible for hundreds of thousands of deaths each year.\\n\\nCars also contribute to climate change. The burning of fossil fuels in cars releases carbon dioxide into the atmosphere, which traps heat and contributes to global warming. Climate change is already having a number of negative effects, including rising sea levels, extreme weather events, and changes in plant and animal life.\\n\\nIn addition to their environmental impact, cars also have a number of negative social consequences. Cars can contribute to traffic congestion, which can make it difficult and time consuming to get around. Car accidents are a major cause of death and injury, and they can also have a devastating impact on families and communities. Cars can also make it difficult to build a sense of community, as people become more isolated in their own vehicles.\\n\\nThere are a number of things that can be done to reduce the negative impact of cars. Bne important step is to improve public transportation. Public transportation can help to reduce traffic congestion and air pollution, and it can also make it easier for people to get around without a car. Another important step is to build more walkable and biteable communities. This can make it easier for people to get around without a car, and it can also encourage people to be more active.\\n\\nWe can also reduce our reliance on cars by making changes to the way we live. For example, we can choose to live closer to where we work, shop, and socialize. We can also choose to work from home more often. And we can choose to walk, bike, or take public transportation whenever possible.\\n\\nLimiting car usage can have a number of benefits. It can help to improve air quality, reduce traffic congestion, and make our communities more walkable and biteable. It can also help to reduce our dependence on oil and fossil fuels. And it can help to improve our health and wellbeing.\\n\\nThere are many things that we can do to reduce our reliance on cars. By making these changes, we can make our communities more livable, sustainable, and healthy.',\n",
       " 'generated': 1,\n",
       " '__index_level_0__': 370979}"
      ]
     },
     "execution_count": 9,
     "metadata": {},
     "output_type": "execute_result"
    }
   ],
   "source": [
    "from datasets import load_dataset, Dataset\n",
    "\n",
    "data = data.astype({\"generated\":int})\n",
    "sampled_data = Dataset.from_pandas(data.sample(10000))\n",
    "sampled_data[290]"
   ]
  },
  {
   "cell_type": "code",
   "execution_count": 10,
   "id": "50311637-437d-4b25-bf2d-ba717aa79346",
   "metadata": {},
   "outputs": [
    {
     "data": {
      "text/plain": [
       "'Limiting car usage can have numerous advantages for individuals and communities alike This is evident in the experiences of communities around the world as described in the passages provided By reducing our reliance on cars we can address critical issues such as greenhouse gas emissions and air pollution as well as create safer and more sustainable communities One of the main advantages of limiting car usage is the positive impact on the environment Cars are a significant source of greenhouse gas emissions particularly in areas where car usage is high For example in Europe cars are responsible for 12 percent of greenhouse gas emissions and in some carintensive areas in the United States this figure can reach up to 50 percent Passage 5 By reducing car usage we can help combat climate change and work towards a more sustainable future Furthermore limiting car usage can improve air quality In cities like Paris smog can become a major problem causing health issues for residents To combat this Paris enforced a partial driving ban to reduce smog levels resulting in a 60 percent decrease in congestion Passage 10 14 Similar efforts have been made in other cities such as Bogota where carfree days have been implemented to reduce smog and promote alternative transportation Passage 21 In addition to the environmental benefits limiting car usage can also have positive effects on public health and safety In communities where cars are restricted residents are more likely to engage in physical activities like walking or biking leading to improved fitness levels and overall wellbeing Moreover by reducing car usage we can create safer streets with fewer accidents and fatalities In Vauban Germany where car usage is limited residents report feeling happier and less tense without the constant presence of cars Passage 3 Another advantage of limiting car usage is the potential for more efficient and compact community planning By reducing the need for parking spaces communities can allocate more land for other purposes such as parks or public transportation infrastructure In Vauban stores are placed a walk away on a main street providing residents with easy access to necessities without the need for a car Passage 6 This type of planning can create more vibrant and accessible communities that prioritize pedestrians and public transportation over cars In conclusion there are numerous advantages to limiting car usage By reducing our reliance on cars we can address environmental issues such as greenhouse gas emissions and air pollution improve public health and safety and create more efficient and sustainable communities The examples provided in the passages demonstrate the positive impacts of limiting car usage and highlight the potential for change in our own communities It is clear that by prioritizing alternative transportation methods and adopting smart planning strategies we can create a more sustainable and livable future'"
      ]
     },
     "execution_count": 10,
     "metadata": {},
     "output_type": "execute_result"
    }
   ],
   "source": [
    "import re\n",
    "\n",
    "def clean_paragraph(paragraph):\n",
    "    paragraph = re.sub(r'[^a-zA-Z0-9\\s]', '', paragraph)\n",
    "    paragraph = re.sub(r'\\s+', ' ', paragraph)\n",
    "    paragraph = paragraph.strip()\n",
    "\n",
    "    return paragraph\n",
    "\n",
    "clean_paragraph(sampled_data[0]['text'])"
   ]
  },
  {
   "cell_type": "code",
   "execution_count": 11,
   "id": "53e7b579-1765-44aa-bbe9-ffd75c4e4794",
   "metadata": {},
   "outputs": [
    {
     "data": {
      "application/vnd.jupyter.widget-view+json": {
       "model_id": "8bc9311178714295b5299d52135d7af7",
       "version_major": 2,
       "version_minor": 0
      },
      "text/plain": [
       "Map:   0%|          | 0/10000 [00:00<?, ? examples/s]"
      ]
     },
     "metadata": {},
     "output_type": "display_data"
    }
   ],
   "source": [
    "def clean(examples):\n",
    "  examples[\"text\"] = clean_paragraph(examples[\"text\"])\n",
    "  return examples\n",
    "\n",
    "cleaned_data = sampled_data.map(clean)"
   ]
  },
  {
   "cell_type": "code",
   "execution_count": 12,
   "id": "7600b04d-d7f2-4510-86da-c947fb0ad437",
   "metadata": {},
   "outputs": [
    {
     "data": {
      "application/vnd.jupyter.widget-view+json": {
       "model_id": "d121532c1aeb4d528f449b715fcf3c1a",
       "version_major": 2,
       "version_minor": 0
      },
      "text/plain": [
       "Stringifying the column:   0%|          | 0/10000 [00:00<?, ? examples/s]"
      ]
     },
     "metadata": {},
     "output_type": "display_data"
    },
    {
     "data": {
      "application/vnd.jupyter.widget-view+json": {
       "model_id": "aa14457503504b51b77a7aa311a6a29b",
       "version_major": 2,
       "version_minor": 0
      },
      "text/plain": [
       "Casting to class labels:   0%|          | 0/10000 [00:00<?, ? examples/s]"
      ]
     },
     "metadata": {},
     "output_type": "display_data"
    }
   ],
   "source": [
    "sampled_data = sampled_data.class_encode_column(\"generated\")"
   ]
  },
  {
   "cell_type": "code",
   "execution_count": 13,
   "id": "45ca529d-8f6e-44ba-946a-ba212db020f2",
   "metadata": {},
   "outputs": [
    {
     "name": "stderr",
     "output_type": "stream",
     "text": [
      "/usr/local/lib/python3.10/dist-packages/transformers/convert_slow_tokenizer.py:562: UserWarning: The sentencepiece tokenizer that you are converting to a fast tokenizer uses the byte fallback option which is not implemented in the fast tokenizers. In practice this means that the fast version of the tokenizer can produce unknown tokens whereas the sentencepiece version would have converted these unknown tokens into a sequence of byte tokens matching the original piece of text.\n",
      "  warnings.warn(\n"
     ]
    },
    {
     "data": {
      "application/vnd.jupyter.widget-view+json": {
       "model_id": "8bab33bd1fd440eaaee713e5809f7fd3",
       "version_major": 2,
       "version_minor": 0
      },
      "text/plain": [
       "Map:   0%|          | 0/10000 [00:00<?, ? examples/s]"
      ]
     },
     "metadata": {},
     "output_type": "display_data"
    }
   ],
   "source": [
    "from transformers import AutoTokenizer\n",
    "tokenizer = AutoTokenizer.from_pretrained(cfg.model, use_fast=True)\n",
    "\n",
    "def tokenize(examples):\n",
    "  return tokenizer(examples[\"text\"],padding=\"max_length\", truncation=True, max_length=512, return_tensors=\"pt\")\n",
    "\n",
    "tokenized_data = cleaned_data.map(tokenize, batched=True)"
   ]
  },
  {
   "cell_type": "code",
   "execution_count": 14,
   "id": "d9365286-94ef-4177-a0bb-388d11f81d33",
   "metadata": {},
   "outputs": [],
   "source": [
    "tokenized_data = tokenized_data.remove_columns(column_names=['__index_level_0__'])"
   ]
  },
  {
   "cell_type": "code",
   "execution_count": 15,
   "id": "7dbf784d-5562-4dfd-8856-c48f9b53e6c0",
   "metadata": {},
   "outputs": [],
   "source": [
    "tokenized_data = tokenized_data.rename_column(\"generated\",\"labels\")\n",
    "tokenized_data = tokenized_data.remove_columns('text')"
   ]
  },
  {
   "cell_type": "code",
   "execution_count": 16,
   "id": "d785ad5d-c83a-4b51-b8b6-ff2202a4089b",
   "metadata": {},
   "outputs": [],
   "source": [
    "from transformers import DataCollatorWithPadding\n",
    "\n",
    "data_collator = DataCollatorWithPadding(tokenizer=tokenizer)"
   ]
  },
  {
   "cell_type": "code",
   "execution_count": 17,
   "id": "ffdd480b-3181-4cc1-8900-76f036144af5",
   "metadata": {},
   "outputs": [],
   "source": [
    "tokenized_data = tokenized_data.train_test_split(test_size=0.3)"
   ]
  },
  {
   "cell_type": "code",
   "execution_count": 18,
   "id": "39cbbeb8-18ba-47ea-a1c2-3466fcb4e8c0",
   "metadata": {},
   "outputs": [
    {
     "data": {
      "text/plain": [
       "<Axes: ylabel='Count'>"
      ]
     },
     "execution_count": 18,
     "metadata": {},
     "output_type": "execute_result"
    },
    {
     "data": {
      "image/png": "[encoded data removed]",
      "text/plain": [
       "<Figure size 640x480 with 1 Axes>"
      ]
     },
     "metadata": {},
     "output_type": "display_data"
    }
   ],
   "source": [
    "import seaborn as sns\n",
    "\n",
    "sns.histplot(tokenized_data['test']['labels'])"
   ]
  },
  {
   "cell_type": "code",
   "execution_count": 19,
   "id": "89670610-8e79-4a21-87ca-3ca31c59abdf",
   "metadata": {},
   "outputs": [],
   "source": [
    "id2label = {0: \"Human\", 1: \"AI\"}\n",
    "label2id = {\"Human\": 0, \"AI\": 1}"
   ]
  },
  {
   "cell_type": "code",
   "execution_count": 20,
   "id": "12e3789d-ea16-4e67-ab9a-5260346cb4a2",
   "metadata": {},
   "outputs": [
    {
     "name": "stderr",
     "output_type": "stream",
     "text": [
      "/usr/local/lib/python3.10/dist-packages/torch/_utils.py:831: UserWarning: TypedStorage is deprecated. It will be removed in the future and UntypedStorage will be the only storage class. This should only matter to you if you are using storages directly.  To access UntypedStorage directly, use tensor.untyped_storage() instead of tensor.storage()\n",
      "  return self.fget.__get__(instance, owner)()\n",
      "Some weights of DebertaV2ForSequenceClassification were not initialized from the model checkpoint at microsoft/deberta-v3-base and are newly initialized: ['classifier.bias', 'classifier.weight', 'pooler.dense.bias', 'pooler.dense.weight']\n",
      "You should probably TRAIN this model on a down-stream task to be able to use it for predictions and inference.\n"
     ]
    }
   ],
   "source": [
    "from transformers import AutoModelForSequenceClassification\n",
    "\n",
    "model = AutoModelForSequenceClassification.from_pretrained(cfg.model, num_labels = 2, id2label=id2label, label2id=label2id)"
   ]
  },
  {
   "cell_type": "code",
   "execution_count": 21,
   "id": "98969154-d4b3-485a-819b-f448e2bf0ee5",
   "metadata": {},
   "outputs": [],
   "source": [
    "from peft import LoraConfig, TaskType\n",
    "\n",
    "peft_config = LoraConfig(task_type='SEQ_CLS', inference_mode=False, r=4, lora_alpha=16, lora_dropout=0.05)"
   ]
  },
  {
   "cell_type": "code",
   "execution_count": 23,
   "id": "3d57bf8e-a584-46fa-9653-653651671721",
   "metadata": {},
   "outputs": [
    {
     "name": "stdout",
     "output_type": "stream",
     "text": [
      "trainable params: 148,994 || all params: 184,572,676 || trainable%: 0.0807\n"
     ]
    }
   ],
   "source": [
    "from peft import PeftModel, get_peft_model\n",
    "\n",
    "model = get_peft_model(model=model, peft_config=peft_config)\n",
    "model.print_trainable_parameters()"
   ]
  },
  {
   "cell_type": "code",
   "execution_count": 24,
   "id": "a3742d68-8caa-4a71-a729-85549249cc3a",
   "metadata": {},
   "outputs": [],
   "source": [
    "from transformers import Trainer,TrainingArguments\n",
    "import numpy as np\n",
    "import evaluate\n",
    "\n",
    "accuracy = evaluate.load(\"accuracy\")\n",
    "def compute_metrics(eval_pred):\n",
    "    predictions, labels = eval_pred\n",
    "    predictions = np.argmax(predictions, axis=1)\n",
    "    return accuracy.compute(predictions=predictions, references=labels)\n",
    "\n",
    "training_args = TrainingArguments(\n",
    "    output_dir=\"/outputs\",\n",
    "    learning_rate=3e-4,\n",
    "    per_device_train_batch_size=8,\n",
    "    per_device_eval_batch_size=8,\n",
    "    num_train_epochs=1,\n",
    "    eval_strategy=\"epoch\",\n",
    "    save_strategy=\"epoch\",\n",
    "    load_best_model_at_end=True,\n",
    "    report_to='wandb',\n",
    "    run_name=\"test-1\"\n",
    ")"
   ]
  },
  {
   "cell_type": "code",
   "execution_count": 25,
   "id": "6bdf613a-5de3-4e94-aaa4-0cb03b5dcf2a",
   "metadata": {},
   "outputs": [],
   "source": [
    "trainer = Trainer(model=model,args=training_args,compute_metrics=compute_metrics,train_dataset=tokenized_data['train'], eval_dataset=tokenized_data['test'],data_collator=data_collator)"
   ]
  },
  {
   "cell_type": "code",
   "execution_count": 26,
   "id": "3cdb7a2f-bc17-4f62-95f0-a907ae9c18ec",
   "metadata": {},
   "outputs": [
    {
     "data": {
      "text/html": [
       "\n",
       "    <div>\n",
       "      \n",
       "      <progress value='875' max='875' style='width:300px; height:20px; vertical-align: middle;'></progress>\n",
       "      [875/875 04:10, Epoch 1/1]\n",
       "    </div>\n",
       "    <table border=\"1\" class=\"dataframe\">\n",
       "  <thead>\n",
       " <tr style=\"text-align: left;\">\n",
       "      <th>Epoch</th>\n",
       "      <th>Training Loss</th>\n",
       "      <th>Validation Loss</th>\n",
       "      <th>Accuracy</th>\n",
       "    </tr>\n",
       "  </thead>\n",
       "  <tbody>\n",
       "    <tr>\n",
       "      <td>1</td>\n",
       "      <td>0.165300</td>\n",
       "      <td>0.128987</td>\n",
       "      <td>0.961667</td>\n",
       "    </tr>\n",
       "  </tbody>\n",
       "</table><p>"
      ],
      "text/plain": [
       "<IPython.core.display.HTML object>"
      ]
     },
     "metadata": {},
     "output_type": "display_data"
    },
    {
     "data": {
      "text/plain": [
       "TrainOutput(global_step=875, training_loss=0.12250557817731585, metrics={'train_runtime': 250.5314, 'train_samples_per_second': 27.941, 'train_steps_per_second': 3.493, 'total_flos': 1845014384640000.0, 'train_loss': 0.12250557817731585, 'epoch': 1.0})"
      ]
     },
     "execution_count": 26,
     "metadata": {},
     "output_type": "execute_result"
    }
   ],
   "source": [
    "trainer.train()"
   ]
  },
  {
   "cell_type": "code",
   "execution_count": null,
   "id": "f5e80d44-bc2a-4b81-bd52-a2715d1c65cd",
   "metadata": {},
   "outputs": [],
   "source": []
  }
 ],
 "metadata": {
  "kernelspec": {
   "display_name": "Python 3 (ipykernel)",
   "language": "python",
   "name": "python3"
  },
  "language_info": {
   "codemirror_mode": {
    "name": "ipython",
    "version": 3
   },
   "file_extension": ".py",
   "mimetype": "text/x-python",
   "name": "python",
   "nbconvert_exporter": "python",
   "pygments_lexer": "ipython3",
   "version": "3.10.12"
  }
 },
 "nbformat": 4,
 "nbformat_minor": 5
}
